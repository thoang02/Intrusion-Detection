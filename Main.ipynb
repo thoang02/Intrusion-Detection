{
 "cells": [
  {
   "cell_type": "code",
   "execution_count": 1,
   "metadata": {
    "id": "P-6ze7NUPX5a"
   },
   "outputs": [],
   "source": [
    "import pandas as pd\n",
    "from sklearn.preprocessing import StandardScaler\n",
    "from sklearn.metrics import confusion_matrix\n",
    "from timeit import default_timer as timer\n",
    "from tensorflow.keras.models import load_model\n",
    "from keras.wrappers.scikit_learn import KerasClassifier\n",
    "from sklearn.model_selection import GridSearchCV\n",
    "\n",
    "import warnings\n",
    "warnings.filterwarnings(\"ignore\")\n"
   ]
  },
  {
   "cell_type": "code",
   "execution_count": null,
   "metadata": {
    "colab": {
     "base_uri": "https://localhost:8080/"
    },
    "executionInfo": {
     "elapsed": 2789,
     "status": "ok",
     "timestamp": 1609425662398,
     "user": {
      "displayName": "hao minh",
      "photoUrl": "",
      "userId": "06505884942007165588"
     },
     "user_tz": -420
    },
    "id": "unPhsuxpPX8P",
    "outputId": "a1d92abe-1958-4858-9807-b9f9b38aa59d"
   },
   "outputs": [
    {
     "name": "stdout",
     "output_type": "stream",
     "text": [
      "Drive already mounted at /content/gdrive; to attempt to forcibly remount, call drive.mount(\"/content/gdrive\", force_remount=True).\n"
     ]
    }
   ],
   "source": [
    "#from google.colab import drive\n",
    "#drive.mount('/content/gdrive')\n",
    "\n",
    "#path_train = \"/content/gdrive/My Drive/Data Science/Dataset/train_imperson_without4n7_balanced_data.csv\"\n",
    "#path_test = \"/content/gdrive/My Drive/Data Science/Dataset/test_imperson_without4n7_balanced_data.csv\""
   ]
  },
  {
   "cell_type": "code",
   "execution_count": 3,
   "metadata": {},
   "outputs": [],
   "source": [
    "path_train = './Dataset/train_imperson_without4n7_balanced_data.csv'\n",
    "path_test = './Dataset/test_imperson_without4n7_balanced_data.csv'"
   ]
  },
  {
   "cell_type": "code",
   "execution_count": 4,
   "metadata": {
    "colab": {
     "base_uri": "https://localhost:8080/"
    },
    "executionInfo": {
     "elapsed": 3530,
     "status": "ok",
     "timestamp": 1609425663147,
     "user": {
      "displayName": "hao minh",
      "photoUrl": "",
      "userId": "06505884942007165588"
     },
     "user_tz": -420
    },
    "id": "GiL19YdSPX_V",
    "outputId": "27953320-f001-4e11-824c-75f5b421e38c"
   },
   "outputs": [
    {
     "name": "stdout",
     "output_type": "stream",
     "text": [
      "   1  2  3         5         6         8         9  10  11  12  ...  146  147  \\\n",
      "0  0  0  0  0.000066  0.000066  0.009150  0.009150   0   0   0  ...  0.0    0   \n",
      "1  0  0  0  0.000014  0.000014  0.000000  0.000000   0   0   0  ...  0.0    0   \n",
      "2  0  0  0  0.035528  0.035528  0.070588  0.070588   0   0   0  ...  0.0    0   \n",
      "3  0  0  0  0.005128  0.005128  0.094771  0.094771   0   0   0  ...  0.0    0   \n",
      "4  0  0  0  0.035116  0.035116  0.070588  0.070588   0   0   0  ...  0.0    0   \n",
      "\n",
      "   148  149  150  151  152  153  154  155  \n",
      "0    0    0    0    0    0    0  0.0    0  \n",
      "1    0    0    0    0    0    0  0.0    0  \n",
      "2    0    0    0    0    0    0  0.0    0  \n",
      "3    0    0    0    0    0    0  0.0    0  \n",
      "4    0    0    0    0    0    0  0.0    0  \n",
      "\n",
      "[5 rows x 153 columns]\n"
     ]
    }
   ],
   "source": [
    "# Read training dataset\n",
    "df_train = pd.read_csv(path_train)\n",
    "print(df_train.head())"
   ]
  },
  {
   "cell_type": "code",
   "execution_count": 6,
   "metadata": {
    "colab": {
     "base_uri": "https://localhost:8080/"
    },
    "executionInfo": {
     "elapsed": 3850,
     "status": "ok",
     "timestamp": 1609425663477,
     "user": {
      "displayName": "hao minh",
      "photoUrl": "",
      "userId": "06505884942007165588"
     },
     "user_tz": -420
    },
    "id": "a_9nd9M_QPaL",
    "outputId": "607ef705-4e1b-48a2-ece1-003b7925c73d"
   },
   "outputs": [
    {
     "name": "stdout",
     "output_type": "stream",
     "text": [
      "   1  2  3         5         6        8        9  10  11  12  ...      146  \\\n",
      "0  0  0  0  0.002547  0.002547  0.98824  0.98824   0   0   0  ...  0.16667   \n",
      "1  0  0  0  0.003296  0.003296  0.98824  0.98824   0   0   0  ...  0.16667   \n",
      "2  0  0  0  0.003285  0.003285  0.98824  0.98824   0   0   0  ...  0.16667   \n",
      "3  0  0  0  0.005942  0.005942  0.00000  0.00000   0   0   0  ...  0.00000   \n",
      "4  0  0  0  0.001519  0.001519  0.98824  0.98824   0   0   0  ...  0.16667   \n",
      "\n",
      "   147  148  149  150  151  152  153      154  155  \n",
      "0    0    0    0    0    0    0    0  0.98674    0  \n",
      "1    0    0    0    0    0    0    0  0.98674    0  \n",
      "2    0    0    0    0    0    0    0  0.98674    0  \n",
      "3    0    0    0    0    0    0    0  0.00000    0  \n",
      "4    0    0    0    0    0    0    0  0.98674    0  \n",
      "\n",
      "[5 rows x 153 columns]\n"
     ]
    }
   ],
   "source": [
    "# Read test dataset\n",
    "df_test = pd.read_csv(path_test)\n",
    "print(df_test.head())"
   ]
  },
  {
   "cell_type": "code",
   "execution_count": 8,
   "metadata": {
    "colab": {
     "base_uri": "https://localhost:8080/"
    },
    "executionInfo": {
     "elapsed": 3844,
     "status": "ok",
     "timestamp": 1609425663478,
     "user": {
      "displayName": "hao minh",
      "photoUrl": "",
      "userId": "06505884942007165588"
     },
     "user_tz": -420
    },
    "id": "IF7tDRD3QbKF",
    "outputId": "bff12ebb-a4c2-44da-bf08-9fff59a357ba"
   },
   "outputs": [
    {
     "name": "stdout",
     "output_type": "stream",
     "text": [
      "Number of rows : 97044 .\n",
      "========================================\n",
      "Number of data points: 97044\n",
      "========================================\n",
      "Number of features: 153\n",
      "========================================\n",
      "List of labels : {0, 1}\n",
      "=============================================================================================================================\n",
      "Number of labels: : 2\n"
     ]
    }
   ],
   "source": [
    "# statistics - training dataset\n",
    "print(\"Number of rows : {} .\".format(len(df_train)))\n",
    "print('='*40)\n",
    "print('Number of data points:', df_train.shape[0])\n",
    "print('='*40)\n",
    "print('Number of features:', df_train.shape[1])\n",
    "print('='*40)\n",
    "output = df_train['155'].values\n",
    "labels = set(output)\n",
    "print('List of labels :', labels)\n",
    "print('='*125)\n",
    "print('Number of labels: :', len(labels))"
   ]
  },
  {
   "cell_type": "code",
   "execution_count": 10,
   "metadata": {
    "colab": {
     "base_uri": "https://localhost:8080/"
    },
    "executionInfo": {
     "elapsed": 3837,
     "status": "ok",
     "timestamp": 1609425663479,
     "user": {
      "displayName": "hao minh",
      "photoUrl": "",
      "userId": "06505884942007165588"
     },
     "user_tz": -420
    },
    "id": "krXXb3iARM2j",
    "outputId": "a219aabd-7a6f-479e-cddd-748c5c5807f2"
   },
   "outputs": [
    {
     "name": "stdout",
     "output_type": "stream",
     "text": [
      "Number of rows : 40158 .\n",
      "========================================\n",
      "Number of data points: 40158\n",
      "========================================\n",
      "Number of features: 153\n",
      "========================================\n",
      "List of labels : {0, 1}\n",
      "=============================================================================================================================\n",
      "Number of labels: : 2\n"
     ]
    }
   ],
   "source": [
    "# statistics - test dataset\n",
    "\n",
    "print(\"Number of rows : {} .\".format(len(df_test)))\n",
    "print('='*40)\n",
    "print('Number of data points:', df_test.shape[0])\n",
    "print('='*40)\n",
    "print('Number of features:', df_test.shape[1])\n",
    "print('='*40)\n",
    "output = df_test['155'].values\n",
    "labels = set(output)\n",
    "print('List of labels :', labels)\n",
    "print('='*125)\n",
    "print('Number of labels: :', len(labels))"
   ]
  },
  {
   "cell_type": "code",
   "execution_count": 11,
   "metadata": {
    "colab": {
     "base_uri": "https://localhost:8080/"
    },
    "executionInfo": {
     "elapsed": 3831,
     "status": "ok",
     "timestamp": 1609425663480,
     "user": {
      "displayName": "hao minh",
      "photoUrl": "",
      "userId": "06505884942007165588"
     },
     "user_tz": -420
    },
    "id": "J5MW-tLgRTOR",
    "outputId": "59eec92f-49a0-41c8-ff8c-0cc6cf2ffb02"
   },
   "outputs": [
    {
     "name": "stdout",
     "output_type": "stream",
     "text": [
      "Number of columns with NULL values:  0\n",
      "========================================\n"
     ]
    },
    {
     "data": {
      "text/plain": [
       "1      0\n",
       "2      0\n",
       "3      0\n",
       "5      0\n",
       "6      0\n",
       "      ..\n",
       "151    0\n",
       "152    0\n",
       "153    0\n",
       "154    0\n",
       "155    0\n",
       "Length: 153, dtype: int64"
      ]
     },
     "execution_count": 11,
     "metadata": {},
     "output_type": "execute_result"
    }
   ],
   "source": [
    "# check NULL values - training dataset\n",
    "\n",
    "print('Number of columns with NULL values: ',len(df_train[df_train.isnull().any(1)]))\n",
    "print('='*40)\n",
    "df_train.isnull().sum()"
   ]
  },
  {
   "cell_type": "code",
   "execution_count": 12,
   "metadata": {
    "colab": {
     "base_uri": "https://localhost:8080/"
    },
    "executionInfo": {
     "elapsed": 3825,
     "status": "ok",
     "timestamp": 1609425663481,
     "user": {
      "displayName": "hao minh",
      "photoUrl": "",
      "userId": "06505884942007165588"
     },
     "user_tz": -420
    },
    "id": "lK92b60cRTVX",
    "outputId": "02078d5c-16ed-437e-d038-aa4462cd4530"
   },
   "outputs": [
    {
     "name": "stdout",
     "output_type": "stream",
     "text": [
      "Number of columns with NULL values:  0\n",
      "========================================\n"
     ]
    },
    {
     "data": {
      "text/plain": [
       "1      0\n",
       "2      0\n",
       "3      0\n",
       "5      0\n",
       "6      0\n",
       "      ..\n",
       "151    0\n",
       "152    0\n",
       "153    0\n",
       "154    0\n",
       "155    0\n",
       "Length: 153, dtype: int64"
      ]
     },
     "execution_count": 12,
     "metadata": {},
     "output_type": "execute_result"
    }
   ],
   "source": [
    "# check NULL values - test dataset\n",
    "print('Number of columns with NULL values: ',len(df_test[df_test.isnull().any(1)]))\n",
    "print('='*40)\n",
    "df_test.isnull().sum()"
   ]
  },
  {
   "cell_type": "code",
   "execution_count": 17,
   "metadata": {
    "colab": {
     "base_uri": "https://localhost:8080/",
     "height": 452
    },
    "executionInfo": {
     "elapsed": 4298,
     "status": "ok",
     "timestamp": 1609425663962,
     "user": {
      "displayName": "hao minh",
      "photoUrl": "",
      "userId": "06505884942007165588"
     },
     "user_tz": -420
    },
    "id": "_8CqDX1jRm-N",
    "outputId": "415453b4-dc84-4cae-aca4-2bac8c71ece3"
   },
   "outputs": [
    {
     "data": {
      "image/png": "[encoded data removed]",
      "text/plain": [
       "<Figure size 1080x504 with 1 Axes>"
      ]
     },
     "metadata": {
      "needs_background": "light"
     },
     "output_type": "display_data"
    }
   ],
   "source": [
    "# Dataset analysis\n",
    "\n",
    "import matplotlib.pyplot as plt\n",
    "from matplotlib.pyplot import *\n",
    "\n",
    "plt.figure(figsize=(15,7))\n",
    "class_distribution = df_train['155'].value_counts()\n",
    "class_distribution.plot(kind='bar')\n",
    "plt.xlabel('Label')\n",
    "plt.ylabel('Number of data points per label')\n",
    "plt.title('Data distribution of training dataset')\n",
    "plt.grid()\n",
    "plt.show()"
   ]
  },
  {
   "cell_type": "code",
   "execution_count": 18,
   "metadata": {
    "colab": {
     "base_uri": "https://localhost:8080/",
     "height": 452
    },
    "executionInfo": {
     "elapsed": 4291,
     "status": "ok",
     "timestamp": 1609425663963,
     "user": {
      "displayName": "hao minh",
      "photoUrl": "",
      "userId": "06505884942007165588"
     },
     "user_tz": -420
    },
    "id": "EYGXQ9f6RTY-",
    "outputId": "12ca3adc-b51c-4b08-dfbb-8d7ac336121b"
   },
   "outputs": [
    {
     "data": {
      "image/png": "[encoded data removed]",
      "text/plain": [
       "<Figure size 1080x504 with 1 Axes>"
      ]
     },
     "metadata": {
      "needs_background": "light"
     },
     "output_type": "display_data"
    }
   ],
   "source": [
    "plt.figure(figsize=(15,7))\n",
    "class_distribution = df_test['155'].value_counts()\n",
    "class_distribution.plot(kind='bar')\n",
    "plt.xlabel('Label')\n",
    "plt.ylabel('Number of data points per label')\n",
    "plt.title('Data distribution of test dataset')\n",
    "plt.grid()\n",
    "plt.show()"
   ]
  },
  {
   "cell_type": "markdown",
   "metadata": {},
   "source": [
    "Experiment 1 : \n",
    "Using 154 original features,  preprocessing technique StandardScaler, apply SVM to classify predict label.\n",
    "Using values of columns 0 đến 154 as features, column 155 is label"
   ]
  },
  {
   "cell_type": "code",
   "execution_count": 19,
   "metadata": {
    "id": "WaX_-Ug4RTfC"
   },
   "outputs": [],
   "source": [
    "\n",
    "# Target variable and train set\n",
    "Y_train = df_train[['155']]\n",
    "X_train = df_train.drop(['155',], axis=1)\n",
    "\n",
    "# StandardScaler preprocessing\n",
    "sc = StandardScaler()\n",
    "X_train = sc.fit_transform(X_train)"
   ]
  },
  {
   "cell_type": "code",
   "execution_count": 20,
   "metadata": {
    "colab": {
     "base_uri": "https://localhost:8080/"
    },
    "executionInfo": {
     "elapsed": 4650,
     "status": "ok",
     "timestamp": 1609425664335,
     "user": {
      "displayName": "hao minh",
      "photoUrl": "",
      "userId": "06505884942007165588"
     },
     "user_tz": -420
    },
    "id": "qaRVIrnNU4q-",
    "outputId": "5a52c78c-e8b0-4697-aefc-d80368c5f89e"
   },
   "outputs": [
    {
     "name": "stdout",
     "output_type": "stream",
     "text": [
      "97044 97044\n"
     ]
    }
   ],
   "source": [
    "print(len(X_train), len(Y_train))"
   ]
  },
  {
   "cell_type": "code",
   "execution_count": 21,
   "metadata": {
    "id": "vuTraIG5UiMv"
   },
   "outputs": [],
   "source": [
    "# StandardScaler on test dataset\n",
    "Y_test = df_test[['155']]\n",
    "X_test = df_test.drop(['155',], axis=1)\n",
    "X_test = sc.fit_transform(X_test)"
   ]
  },
  {
   "cell_type": "code",
   "execution_count": 22,
   "metadata": {
    "colab": {
     "base_uri": "https://localhost:8080/"
    },
    "executionInfo": {
     "elapsed": 4637,
     "status": "ok",
     "timestamp": 1609425664336,
     "user": {
      "displayName": "hao minh",
      "photoUrl": "",
      "userId": "06505884942007165588"
     },
     "user_tz": -420
    },
    "id": "Bg0TbltfRTii",
    "outputId": "b25bb057-1795-4acf-e850-e83035fd6f53"
   },
   "outputs": [
    {
     "name": "stdout",
     "output_type": "stream",
     "text": [
      "40158 40158\n"
     ]
    }
   ],
   "source": [
    "print(len(X_test), len(Y_test))"
   ]
  },
  {
   "cell_type": "code",
   "execution_count": 24,
   "metadata": {
    "colab": {
     "base_uri": "https://localhost:8080/"
    },
    "executionInfo": {
     "elapsed": 22551,
     "status": "ok",
     "timestamp": 1609425682256,
     "user": {
      "displayName": "hao minh",
      "photoUrl": "",
      "userId": "06505884942007165588"
     },
     "user_tz": -420
    },
    "id": "dALb3rA6lRH0",
    "outputId": "47819555-a604-4a7c-9c84-a22f9390617b"
   },
   "outputs": [
    {
     "name": "stdout",
     "output_type": "stream",
     "text": [
      "Training time:  11.801758728000095\n",
      "Prediction time:  0.007431713999949352\n",
      "Result of model LinearSVC\n",
      "Accuracy:  0.8394093331341203\n",
      "FPR score:  0.08406793166990388\n",
      "FNR score:  0.23711340206185566\n",
      "FAR score:  0.16059066686587978\n"
     ]
    }
   ],
   "source": [
    "# testing LinearSVC on original dataset\n",
    "from sklearn.svm import LinearSVC\n",
    "from sklearn.metrics import accuracy_score\n",
    "\n",
    "# define model\n",
    "model = LinearSVC(C=1.0,random_state=42)\n",
    "# fit model on training set\n",
    "start = timer()\n",
    "model.fit(X_train, np.array(Y_train).ravel())\n",
    "end = timer()\n",
    "print(\"Training time: \", end - start)\n",
    "\n",
    "# make prediction on test set\n",
    "start = timer()\n",
    "Y_pred = model.predict(X_test)\n",
    "end = timer()\n",
    "print(\"Prediction time: \", end - start)\n",
    "\n",
    "# calculate accuracy\n",
    "accuracy = float(accuracy_score(Y_test, Y_pred))\n",
    "\n",
    "tn, fp, fn, tp = confusion_matrix(Y_test, Y_pred).ravel()\n",
    "FPR = fp / (fp + tn)\n",
    "FNR = fn / (fn + tp)\n",
    "FAR = (FPR + FNR) / 2\n",
    "\n",
    "print(\"Result of model LinearSVC\")\n",
    "print(\"Accuracy: \",accuracy)\n",
    "print(\"FPR score: \", FPR)\n",
    "print(\"FNR score: \", FNR)\n",
    "print(\"FAR score: \", FAR)"
   ]
  },
  {
   "cell_type": "code",
   "execution_count": 25,
   "metadata": {
    "id": "PT7GQkqwVNYt"
   },
   "outputs": [],
   "source": [
    "from tensorflow.keras.models import Model\n",
    "from tensorflow.keras.layers import Input\n",
    "from tensorflow.keras.layers import Dense\n",
    "from tensorflow.keras.layers import LeakyReLU\n",
    "from tensorflow.keras.layers import BatchNormalization\n",
    "from tensorflow.keras.utils import plot_model\n",
    "from matplotlib import pyplot"
   ]
  },
  {
   "cell_type": "code",
   "execution_count": 26,
   "metadata": {
    "colab": {
     "base_uri": "https://localhost:8080/"
    },
    "executionInfo": {
     "elapsed": 23290,
     "status": "ok",
     "timestamp": 1609425683007,
     "user": {
      "displayName": "hao minh",
      "photoUrl": "",
      "userId": "06505884942007165588"
     },
     "user_tz": -420
    },
    "id": "1ZmRKSyeVNgW",
    "outputId": "e339d909-3163-42e6-8927-1d02769ff153"
   },
   "outputs": [
    {
     "name": "stdout",
     "output_type": "stream",
     "text": [
      "Model: \"model\"\n",
      "_________________________________________________________________\n",
      " Layer (type)                Output Shape              Param #   \n",
      "=================================================================\n",
      " input_1 (InputLayer)        [(None, 152)]             0         \n",
      "                                                                 \n",
      " dense (Dense)               (None, 304)               46512     \n",
      "                                                                 \n",
      " batch_normalization (BatchN  (None, 304)              1216      \n",
      " ormalization)                                                   \n",
      "                                                                 \n",
      " leaky_re_lu (LeakyReLU)     (None, 304)               0         \n",
      "                                                                 \n",
      " dense_1 (Dense)             (None, 152)               46360     \n",
      "                                                                 \n",
      " batch_normalization_1 (Batc  (None, 152)              608       \n",
      " hNormalization)                                                 \n",
      "                                                                 \n",
      " leaky_re_lu_1 (LeakyReLU)   (None, 152)               0         \n",
      "                                                                 \n",
      " dense_2 (Dense)             (None, 152)               23256     \n",
      "                                                                 \n",
      " dense_3 (Dense)             (None, 152)               23256     \n",
      "                                                                 \n",
      " batch_normalization_2 (Batc  (None, 152)              608       \n",
      " hNormalization)                                                 \n",
      "                                                                 \n",
      " leaky_re_lu_2 (LeakyReLU)   (None, 152)               0         \n",
      "                                                                 \n",
      " dense_4 (Dense)             (None, 304)               46512     \n",
      "                                                                 \n",
      " batch_normalization_3 (Batc  (None, 304)              1216      \n",
      " hNormalization)                                                 \n",
      "                                                                 \n",
      " leaky_re_lu_3 (LeakyReLU)   (None, 304)               0         \n",
      "                                                                 \n",
      " dense_5 (Dense)             (None, 152)               46360     \n",
      "                                                                 \n",
      "=================================================================\n",
      "Total params: 235,904\n",
      "Trainable params: 234,080\n",
      "Non-trainable params: 1,824\n",
      "_________________________________________________________________\n",
      "None\n"
     ]
    }
   ],
   "source": [
    "# Configure AutoDecoder.\n",
    "n_inputs = 152\n",
    "# define encoder\n",
    "visible = Input(shape=(n_inputs,))\n",
    "# encoder level 1\n",
    "e = Dense(n_inputs*2)(visible)\n",
    "e = BatchNormalization()(e)\n",
    "e = LeakyReLU()(e)\n",
    "# encoder level 2\n",
    "e = Dense(n_inputs)(e)\n",
    "e = BatchNormalization()(e)\n",
    "e = LeakyReLU()(e)\n",
    "# bottleneck\n",
    "n_bottleneck = n_inputs\n",
    "bottleneck = Dense(n_bottleneck)(e)\n",
    "# define decoder, level 1\n",
    "d = Dense(n_inputs)(bottleneck)\n",
    "d = BatchNormalization()(d)\n",
    "d = LeakyReLU()(d)\n",
    "# decoder level 2\n",
    "d = Dense(n_inputs*2)(d)\n",
    "d = BatchNormalization()(d)\n",
    "d = LeakyReLU()(d)\n",
    "# output layer\n",
    "\n",
    "# using one of activation functions: [\"linear\",\"sigmoid\",\"softmax\",\"tanh\", \"ReLu\"]\n",
    "output = Dense(n_inputs, activation='linear')(d)\n",
    "# define autoencoder model\n",
    "model = Model(inputs=visible, outputs=output)\n",
    "\n",
    "# using on of the loss functions = [\"mse\", \"binary_crossentropy\"]\n",
    "# using one of the optimiser = [\"sgd\", \"adamax\", \"adagrad\", \"RMSprop\",\"adam\"]\n",
    "model.compile(optimizer=\"adam\", loss='binary_crossentropy',metrics=[\"accuracy\"])\n",
    "\n",
    "print(model.summary())"
   ]
  },
  {
   "cell_type": "code",
   "execution_count": 27,
   "metadata": {
    "colab": {
     "base_uri": "https://localhost:8080/",
     "height": 625
    },
    "executionInfo": {
     "elapsed": 337055,
     "status": "ok",
     "timestamp": 1609425996778,
     "user": {
      "displayName": "hao minh",
      "photoUrl": "",
      "userId": "06505884942007165588"
     },
     "user_tz": -420
    },
    "id": "kqvIAwu_VlL0",
    "outputId": "16249b75-6f6c-4550-a021-204bc2879c2f"
   },
   "outputs": [
    {
     "name": "stdout",
     "output_type": "stream",
     "text": [
      "You must install pydot (`pip install pydot`) and install graphviz (see instructions at https://graphviz.gitlab.io/download/) for plot_model/model_to_dot to work.\n",
      "Epoch 1/10\n",
      "6066/6066 [==============================] - 19s 3ms/step - loss: 0.1092 - accuracy: 0.0129 - val_loss: 0.6404 - val_accuracy: 0.0000e+00\n",
      "Epoch 2/10\n",
      "6066/6066 [==============================] - 17s 3ms/step - loss: 0.0485 - accuracy: 2.9883e-04 - val_loss: 6.3276 - val_accuracy: 0.0000e+00\n",
      "Epoch 3/10\n",
      "6066/6066 [==============================] - 22s 4ms/step - loss: 0.0240 - accuracy: 0.0000e+00 - val_loss: 0.3745 - val_accuracy: 0.0000e+00\n",
      "Epoch 4/10\n",
      "6066/6066 [==============================] - 21s 3ms/step - loss: 0.0210 - accuracy: 0.0000e+00 - val_loss: 6.8663 - val_accuracy: 0.0000e+00\n",
      "Epoch 5/10\n",
      "6066/6066 [==============================] - 20s 3ms/step - loss: 0.0237 - accuracy: 9.2741e-05 - val_loss: 3.6043 - val_accuracy: 4.9803e-05\n",
      "Epoch 6/10\n",
      "6066/6066 [==============================] - 23s 4ms/step - loss: 0.0179 - accuracy: 2.0609e-05 - val_loss: 0.4989 - val_accuracy: 0.0000e+00\n",
      "Epoch 7/10\n",
      "6066/6066 [==============================] - 19s 3ms/step - loss: 0.0203 - accuracy: 0.0000e+00 - val_loss: 0.3811 - val_accuracy: 0.0000e+00\n",
      "Epoch 8/10\n",
      "6066/6066 [==============================] - 29s 5ms/step - loss: 0.0139 - accuracy: 0.0000e+00 - val_loss: 7.3238 - val_accuracy: 0.0000e+00\n",
      "Epoch 9/10\n",
      "6066/6066 [==============================] - 27s 5ms/step - loss: 0.0558 - accuracy: 0.0000e+00 - val_loss: 0.5171 - val_accuracy: 0.0000e+00\n",
      "Epoch 10/10\n",
      "6066/6066 [==============================] - 26s 4ms/step - loss: 0.0200 - accuracy: 0.0000e+00 - val_loss: 1.0995 - val_accuracy: 0.0000e+00\n"
     ]
    },
    {
     "data": {
      "image/png": "[encoded data removed]",
      "text/plain": [
       "<Figure size 432x288 with 1 Axes>"
      ]
     },
     "metadata": {
      "needs_background": "light"
     },
     "output_type": "display_data"
    }
   ],
   "source": [
    "# plot the autoencoder\n",
    "plot_model(model, 'autoencoder_no_compress.png', show_shapes=True)\n",
    "\n",
    "# batch size: 16, epochs: 10\n",
    "history = model.fit(X_train, Y_train, epochs=10, batch_size=16, verbose=1, validation_data=(X_test,Y_test))\n",
    "# plot loss\n",
    "pyplot.plot(history.history['loss'], label='train')\n",
    "pyplot.plot(history.history['val_loss'], label='test')\n",
    "pyplot.legend()\n",
    "pyplot.show()"
   ]
  },
  {
   "cell_type": "code",
   "execution_count": 31,
   "metadata": {},
   "outputs": [
    {
     "name": "stdout",
     "output_type": "stream",
     "text": [
      "Collecting pydot\n",
      "  Downloading pydot-1.4.2-py2.py3-none-any.whl (21 kB)\n",
      "Requirement already satisfied: pyparsing>=2.1.4 in /Users/michellehoang/opt/anaconda3/lib/python3.8/site-packages (from pydot) (2.4.7)\n",
      "Installing collected packages: pydot\n",
      "Successfully installed pydot-1.4.2\n",
      "\u001b[33mWARNING: You are using pip version 21.2.4; however, version 22.0.4 is available.\n",
      "You should consider upgrading via the '/Users/michellehoang/opt/anaconda3/bin/python -m pip install --upgrade pip' command.\u001b[0m\n",
      "Note: you may need to restart the kernel to use updated packages.\n"
     ]
    }
   ],
   "source": [
    "pip install pydot"
   ]
  },
  {
   "cell_type": "code",
   "execution_count": 32,
   "metadata": {
    "id": "4vcckdj6PMgV"
   },
   "outputs": [
    {
     "name": "stdout",
     "output_type": "stream",
     "text": [
      "You must install pydot (`pip install pydot`) and install graphviz (see instructions at https://graphviz.gitlab.io/download/) for plot_model/model_to_dot to work.\n",
      "WARNING:tensorflow:Compiled the loaded model, but the compiled metrics have yet to be built. `model.compile_metrics` will be empty until you train or evaluate the model.\n"
     ]
    }
   ],
   "source": [
    "encoder = Model(inputs=visible, outputs=bottleneck)\n",
    "plot_model(encoder, 'encoder_no_compress.png', show_shapes=True)\n",
    "# save the encoder to file\n",
    "encoder.save('encoder.h5')"
   ]
  },
  {
   "cell_type": "code",
   "execution_count": 33,
   "metadata": {
    "colab": {
     "base_uri": "https://localhost:8080/"
    },
    "executionInfo": {
     "elapsed": 337386,
     "status": "ok",
     "timestamp": 1609425997118,
     "user": {
      "displayName": "hao minh",
      "photoUrl": "",
      "userId": "06505884942007165588"
     },
     "user_tz": -420
    },
    "id": "mVooBrOO0Utw",
    "outputId": "6c471844-c539-4164-f797-089e7f6b3a41"
   },
   "outputs": [
    {
     "name": "stdout",
     "output_type": "stream",
     "text": [
      "WARNING:tensorflow:No training configuration found in the save file, so the model was *not* compiled. Compile it manually.\n"
     ]
    }
   ],
   "source": [
    "# load the model from file\n",
    "encoder = load_model('encoder.h5')"
   ]
  },
  {
   "cell_type": "code",
   "execution_count": 34,
   "metadata": {
    "id": "O9pLwdmsYZ_O"
   },
   "outputs": [],
   "source": [
    "# encode the train data\n",
    "X_train_encode = encoder.predict(X_train)\n",
    "# encode the test data\n",
    "X_test_encode = encoder.predict(X_test)"
   ]
  },
  {
   "cell_type": "markdown",
   "metadata": {},
   "source": [
    "EXPERIMENT 2: Using feature extraction Autodecoder, then apply Linear SVM model\n"
   ]
  },
  {
   "cell_type": "code",
   "execution_count": 35,
   "metadata": {
    "colab": {
     "base_uri": "https://localhost:8080/"
    },
    "executionInfo": {
     "elapsed": 381862,
     "status": "ok",
     "timestamp": 1609426041606,
     "user": {
      "displayName": "hao minh",
      "photoUrl": "",
      "userId": "06505884942007165588"
     },
     "user_tz": -420
    },
    "id": "8sYJSryk0hIq",
    "outputId": "d08911dd-fc27-48c7-a0a0-4ab350736fc4"
   },
   "outputs": [
    {
     "name": "stdout",
     "output_type": "stream",
     "text": [
      "Training time:  29.312668477999978\n",
      "Prediction time:  0.015914403999886417\n",
      "Result of Linear SVM model after using AutoEncoder\n",
      "Accuracy:  0.593754669057224\n",
      "FPR score:  0.041286916679117484\n",
      "FNR score:  0.7712037452064345\n",
      "FAR score:  0.406245330942776\n"
     ]
    }
   ],
   "source": [
    " # define the model\n",
    "model = LinearSVC(C=1.0,random_state=42)\n",
    "\n",
    "# fit model on training set\n",
    "start = timer()\n",
    "model.fit(X_train_encode, np.array(Y_train).ravel())\n",
    "end = timer()\n",
    "print(\"Training time: \", end - start)\n",
    "\n",
    "# make prediction on test set\n",
    "start = timer()\n",
    "Y_pred = model.predict(X_test_encode)\n",
    "end = timer()\n",
    "print(\"Prediction time: \", end - start)\n",
    "\n",
    "\n",
    "# calculate accuracy\n",
    "tn, fp, fn, tp = confusion_matrix(Y_test, Y_pred).ravel()\n",
    "accuracy = float(accuracy_score(Y_test, Y_pred))\n",
    "\n",
    "FPR = fp / (fp + tn)\n",
    "FNR = fn / (fn + tp)\n",
    "FAR = (FPR + FNR) / 2\n",
    "\n",
    "print(\"Result of Linear SVM model after using AutoEncoder\")\n",
    "print(\"Accuracy: \",accuracy)\n",
    "print(\"FPR score: \", FPR)\n",
    "print(\"FNR score: \", FNR)\n",
    "print(\"FAR score: \", FAR)"
   ]
  },
  {
   "cell_type": "markdown",
   "metadata": {},
   "source": [
    "EXPERIMENT 3: Concatinate additional feature from AutoEncoder with original dataset"
   ]
  },
  {
   "cell_type": "code",
   "execution_count": 36,
   "metadata": {
    "colab": {
     "base_uri": "https://localhost:8080/"
    },
    "executionInfo": {
     "elapsed": 385291,
     "status": "ok",
     "timestamp": 1609426045041,
     "user": {
      "displayName": "hao minh",
      "photoUrl": "",
      "userId": "06505884942007165588"
     },
     "user_tz": -420
    },
    "id": "ZuMhHJlY1q8h",
    "outputId": "27fef589-10df-45ea-cdc7-ccca34459c6f"
   },
   "outputs": [
    {
     "name": "stdout",
     "output_type": "stream",
     "text": [
      "[[  0.           0.           0.         ...   9.74053669 -11.92098618\n",
      "   -2.76527119]\n",
      " [  0.           0.           0.         ...  11.87184525 -14.32646275\n",
      "   -3.51068997]\n",
      " [  0.           0.           0.         ...  13.57366085 -20.19068909\n",
      "  -10.38341713]\n",
      " ...\n",
      " [  0.           0.           0.         ...  -6.96696329   4.46377134\n",
      "   -2.11791658]\n",
      " [  0.           0.           0.         ...  -6.08670139   3.97511697\n",
      "   -1.78805709]\n",
      " [  0.           0.           0.         ...  -6.05116892   3.95318675\n",
      "   -1.77595067]]\n"
     ]
    }
   ],
   "source": [
    "\n",
    "# encode the train data\n",
    "X_train_encode = encoder.predict(X_train)\n",
    "# encode the test data\n",
    "X_test_encode = encoder.predict(X_test)\n",
    "\n",
    "# Concate two feature\n",
    "X_train_concat = np.concatenate((X_train, X_train_encode), axis=1)\n",
    "X_test_concat = np.concatenate((X_test, X_test_encode), axis=1)\n",
    "print(X_train_concat)"
   ]
  },
  {
   "cell_type": "code",
   "execution_count": 38,
   "metadata": {
    "id": "fJ1iFHWyRmRd"
   },
   "outputs": [
    {
     "name": "stdout",
     "output_type": "stream",
     "text": [
      "(97044, 304)\n"
     ]
    }
   ],
   "source": [
    "print(X_train_concat.shape)"
   ]
  },
  {
   "cell_type": "code",
   "execution_count": 39,
   "metadata": {
    "colab": {
     "base_uri": "https://localhost:8080/"
    },
    "executionInfo": {
     "elapsed": 395987,
     "status": "ok",
     "timestamp": 1609426055742,
     "user": {
      "displayName": "hao minh",
      "photoUrl": "",
      "userId": "06505884942007165588"
     },
     "user_tz": -420
    },
    "id": "HOnPOKGu3QJG",
    "outputId": "394606f0-3948-4f00-c3c5-ac8cae689792"
   },
   "outputs": [
    {
     "name": "stdout",
     "output_type": "stream",
     "text": [
      "Training time:  14.098168184000087\n",
      "Prediction time:  0.012838560000091093\n",
      "Result of SVM model using AutoEncoder\n",
      "Accuracy:  0.7473977787738433\n",
      "FPR score:  0.03331839235021664\n",
      "FNR score:  0.4718860501020967\n",
      "FAR score:  0.25260222122615666\n"
     ]
    }
   ],
   "source": [
    "# Applying SVM model on this dataset\n",
    "# define the model\n",
    "model = LinearSVC(C=1.0,random_state=42)\n",
    "# fit model on training set\n",
    "start = timer()\n",
    "model.fit(X_train_concat, np.array(Y_train).ravel())\n",
    "end = timer()\n",
    "print(\"Training time: \", end - start)\n",
    "\n",
    "# make prediction on test set\n",
    "start = timer()\n",
    "Y_pred = model.predict(X_test_concat)\n",
    "end = timer()\n",
    "print(\"Prediction time: \", end - start)\n",
    "\n",
    "# calculate accuracy\n",
    "accuracy = float(accuracy_score(Y_test, Y_pred))\n",
    "\n",
    "tn, fp, fn, tp = confusion_matrix(Y_test, Y_pred).ravel()\n",
    "FPR = fp / (fp + tn)\n",
    "FNR = fn / (fn + tp)\n",
    "FAR = (FPR + FNR) / 2\n",
    "\n",
    "print(\"Result of SVM model using AutoEncoder\")\n",
    "print(\"Accuracy: \",accuracy)\n",
    "print(\"FPR score: \", FPR)\n",
    "print(\"FNR score: \", FNR)\n",
    "print(\"FAR score: \", FAR)"
   ]
  },
  {
   "cell_type": "code",
   "execution_count": null,
   "metadata": {
    "colab": {
     "base_uri": "https://localhost:8080/"
    },
    "executionInfo": {
     "elapsed": 3112842,
     "status": "ok",
     "timestamp": 1609430620178,
     "user": {
      "displayName": "hao minh",
      "photoUrl": "",
      "userId": "06505884942007165588"
     },
     "user_tz": -420
    },
    "id": "qTTrN7998CBO",
    "outputId": "55725e65-0225-4e23-f05b-0b6e34444a94"
   },
   "outputs": [],
   "source": [
    "# Using feature selection to decrease data dimentions created by Autoencoder\n",
    "# Apply feature selection techniques (e.g. filter, wrapper and embedded) and see if any of the additional features are selected.\n",
    "# Recursive Feature Elimination which is a type of wrapper feature selection method.\n",
    "\n",
    "from sklearn.feature_selection import RFE\n",
    "\n",
    "selector = RFE(model, n_features_to_select=5, step=1)\n",
    "\n",
    "start = timer()\n",
    "selector = selector.fit(X_train_encode, np.array(Y_train).ravel())\n",
    "end = timer()\n",
    "print(\"Training time: \", end - start)\n",
    "\n",
    "start = timer()\n",
    "Y_pred = selector.predict(X_test_encode)\n",
    "end = timer()\n",
    "print(\"Prediction time: \", end - start)\n",
    "\n",
    "# calculate accuracy\n",
    "accuracy = float(accuracy_score(Y_test, Y_pred))\n",
    "\n",
    "tn, fp, fn, tp = confusion_matrix(Y_test, Y_pred).ravel()\n",
    "FPR = fp / (fp + tn)\n",
    "FNR = fn / (fn + tp)\n",
    "FAR = (FPR + FNR) / 2\n",
    "\n",
    "print(\"Result of SVM model using Recursive Feature Elimination as feature selection\")\n",
    "print(\"Accuracy: \",accuracy)\n",
    "print(\"FPR score: \", FPR)\n",
    "print(\"FNR score: \", FNR)\n",
    "print(\"FAR score: \", FAR)"
   ]
  },
  {
   "cell_type": "code",
   "execution_count": null,
   "metadata": {
    "colab": {
     "base_uri": "https://localhost:8080/"
    },
    "executionInfo": {
     "elapsed": 213206,
     "status": "ok",
     "timestamp": 1609430833418,
     "user": {
      "displayName": "hao minh",
      "photoUrl": "",
      "userId": "06505884942007165588"
     },
     "user_tz": -420
    },
    "id": "SmKBMIYQswUf",
    "outputId": "e0ab0017-7b2f-4f66-c3fd-408720ab6a0b"
   },
   "outputs": [],
   "source": [
    "# Using GridsearchCV technique on concatinated features from AutoEncoder and original dataset to chose suitable parameter for model\n",
    "from sklearn.model_selection import GridSearchCV \n",
    "  \n",
    "# defining parameter range \n",
    "param_grid = {'C': [0.1, 1, 10, 100, 1000]} \n",
    "grid = GridSearchCV(LinearSVC(random_state=42), param_grid, refit = True, verbose = 3)\n",
    "grid.fit(X_train_concat, np.array(Y_train).ravel()) \n"
   ]
  },
  {
   "cell_type": "code",
   "execution_count": null,
   "metadata": {
    "colab": {
     "base_uri": "https://localhost:8080/"
    },
    "executionInfo": {
     "elapsed": 213193,
     "status": "ok",
     "timestamp": 1609430833419,
     "user": {
      "displayName": "hao minh",
      "photoUrl": "",
      "userId": "06505884942007165588"
     },
     "user_tz": -420
    },
    "id": "IWixnzKTwVmL",
    "outputId": "1f538b63-ff37-492b-f680-cfa78c090604"
   },
   "outputs": [],
   "source": [
    "# print best parameter after tuning \n",
    "print(grid.best_params_) \n",
    "  \n",
    "# print how our model looks after hyper-parameter tuning \n",
    "print(grid.best_estimator_) \n",
    "\n",
    "grid_predictions = grid.predict(X_test_concat)\n",
    "\n",
    "# calculate accuracy\n",
    "accuracy = float(accuracy_score(Y_test, Y_pred))\n",
    "\n",
    "tn, fp, fn, tp = confusion_matrix(Y_test, Y_pred).ravel()\n",
    "FPR = fp / (fp + tn)\n",
    "FNR = fn / (fn + tp)\n",
    "FAR = (FPR + FNR) / 2\n",
    "\n",
    "print(\"Result of SVM model after using GridsearchCV\")\n",
    "print(\"Accuracy: \",accuracy)\n",
    "print(\"FPR score: \", FPR)\n",
    "print(\"FNR score: \", FNR)\n",
    "print(\"FAR score: \", FAR)"
   ]
  },
  {
   "cell_type": "code",
   "execution_count": null,
   "metadata": {},
   "outputs": [],
   "source": []
  }
 ],
 "metadata": {
  "accelerator": "GPU",
  "colab": {
   "collapsed_sections": [],
   "name": "Main.ipynb",
   "provenance": []
  },
  "kernelspec": {
   "display_name": "Python 3",
   "language": "python",
   "name": "python3"
  },
  "language_info": {
   "codemirror_mode": {
    "name": "ipython",
    "version": 3
   },
   "file_extension": ".py",
   "mimetype": "text/x-python",
   "name": "python",
   "nbconvert_exporter": "python",
   "pygments_lexer": "ipython3",
   "version": "3.8.5"
  }
 },
 "nbformat": 4,
 "nbformat_minor": 1
}
